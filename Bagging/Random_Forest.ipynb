{
 "cells": [
  {
   "cell_type": "code",
   "execution_count": 17,
   "id": "38a786eb",
   "metadata": {},
   "outputs": [],
   "source": [
    "import numpy as np\n",
    "import pandas as pd\n",
    "import matplotlib.pyplot as plt\n",
    "import seaborn as sns\n",
    "import random"
   ]
  },
  {
   "cell_type": "code",
   "execution_count": 18,
   "id": "78ba012c",
   "metadata": {},
   "outputs": [],
   "source": [
    "from sklearn.tree import DecisionTreeClassifier\n",
    "from sklearn.model_selection import train_test_split\n",
    "from sklearn.datasets import make_classification\n",
    "X,y=make_classification(n_features=5,n_informative=5,n_clusters_per_class=1,n_redundant=0)"
   ]
  },
  {
   "cell_type": "code",
   "execution_count": 19,
   "id": "a122b596",
   "metadata": {},
   "outputs": [],
   "source": [
    "df=pd.DataFrame(X,columns=['col1','col2','col3','col4','col5'])"
   ]
  },
  {
   "cell_type": "code",
   "execution_count": 20,
   "id": "263d602d",
   "metadata": {},
   "outputs": [],
   "source": [
    "df['target']=y"
   ]
  },
  {
   "cell_type": "code",
   "execution_count": 21,
   "id": "d9a98243",
   "metadata": {},
   "outputs": [
    {
     "name": "stdout",
     "output_type": "stream",
     "text": [
      "(100, 6)\n"
     ]
    }
   ],
   "source": [
    "print(df.shape)"
   ]
  },
  {
   "cell_type": "code",
   "execution_count": 22,
   "id": "f1b886b2",
   "metadata": {},
   "outputs": [
    {
     "data": {
      "text/html": [
       "<div>\n",
       "<style scoped>\n",
       "    .dataframe tbody tr th:only-of-type {\n",
       "        vertical-align: middle;\n",
       "    }\n",
       "\n",
       "    .dataframe tbody tr th {\n",
       "        vertical-align: top;\n",
       "    }\n",
       "\n",
       "    .dataframe thead th {\n",
       "        text-align: right;\n",
       "    }\n",
       "</style>\n",
       "<table border=\"1\" class=\"dataframe\">\n",
       "  <thead>\n",
       "    <tr style=\"text-align: right;\">\n",
       "      <th></th>\n",
       "      <th>col1</th>\n",
       "      <th>col2</th>\n",
       "      <th>col3</th>\n",
       "      <th>col4</th>\n",
       "      <th>col5</th>\n",
       "      <th>target</th>\n",
       "    </tr>\n",
       "  </thead>\n",
       "  <tbody>\n",
       "    <tr>\n",
       "      <th>0</th>\n",
       "      <td>-1.547898</td>\n",
       "      <td>0.744409</td>\n",
       "      <td>-1.048108</td>\n",
       "      <td>4.618516</td>\n",
       "      <td>0.996701</td>\n",
       "      <td>0</td>\n",
       "    </tr>\n",
       "    <tr>\n",
       "      <th>1</th>\n",
       "      <td>-1.685027</td>\n",
       "      <td>-1.125926</td>\n",
       "      <td>-1.257461</td>\n",
       "      <td>1.051037</td>\n",
       "      <td>0.917206</td>\n",
       "      <td>0</td>\n",
       "    </tr>\n",
       "    <tr>\n",
       "      <th>2</th>\n",
       "      <td>1.283084</td>\n",
       "      <td>1.464117</td>\n",
       "      <td>-0.280333</td>\n",
       "      <td>-0.112043</td>\n",
       "      <td>3.379386</td>\n",
       "      <td>0</td>\n",
       "    </tr>\n",
       "    <tr>\n",
       "      <th>3</th>\n",
       "      <td>-0.630371</td>\n",
       "      <td>-0.611708</td>\n",
       "      <td>-0.015201</td>\n",
       "      <td>-0.770749</td>\n",
       "      <td>0.537000</td>\n",
       "      <td>1</td>\n",
       "    </tr>\n",
       "    <tr>\n",
       "      <th>4</th>\n",
       "      <td>-1.979503</td>\n",
       "      <td>-3.942160</td>\n",
       "      <td>-0.181399</td>\n",
       "      <td>1.068696</td>\n",
       "      <td>1.655915</td>\n",
       "      <td>1</td>\n",
       "    </tr>\n",
       "  </tbody>\n",
       "</table>\n",
       "</div>"
      ],
      "text/plain": [
       "       col1      col2      col3      col4      col5  target\n",
       "0 -1.547898  0.744409 -1.048108  4.618516  0.996701       0\n",
       "1 -1.685027 -1.125926 -1.257461  1.051037  0.917206       0\n",
       "2  1.283084  1.464117 -0.280333 -0.112043  3.379386       0\n",
       "3 -0.630371 -0.611708 -0.015201 -0.770749  0.537000       1\n",
       "4 -1.979503 -3.942160 -0.181399  1.068696  1.655915       1"
      ]
     },
     "execution_count": 22,
     "metadata": {},
     "output_type": "execute_result"
    }
   ],
   "source": [
    "df.head()"
   ]
  },
  {
   "cell_type": "code",
   "execution_count": 23,
   "id": "555039b6",
   "metadata": {},
   "outputs": [],
   "source": [
    "#Function for row sampling\n",
    "def sample_rows(df,percent):\n",
    "    return df.sample(int(percent*df.shape[0]),replace=True)"
   ]
  },
  {
   "cell_type": "code",
   "execution_count": 29,
   "id": "3518ce9a",
   "metadata": {},
   "outputs": [],
   "source": [
    "#Function for feature sampling\n",
    "def sample_features(df,percent):\n",
    "    cols=random.sample(df.columns.tolist()[:-1],int(percent*df.shape[1]))\n",
    "    return df[cols]"
   ]
  },
  {
   "cell_type": "code",
   "execution_count": 30,
   "id": "574b8950",
   "metadata": {},
   "outputs": [],
   "source": [
    "#Feature for combined sampling\n",
    "def combined_sampling(df,row_percent,col_percent):\n",
    "    new_df=sample_rows(df,row_percent)\n",
    "    return sample_features(new_df,col_percent)"
   ]
  },
  {
   "cell_type": "code",
   "execution_count": 31,
   "id": "99920b53",
   "metadata": {},
   "outputs": [],
   "source": [
    "df1=sample_rows(df,0.1)"
   ]
  },
  {
   "cell_type": "code",
   "execution_count": 32,
   "id": "8b7ba933",
   "metadata": {},
   "outputs": [
    {
     "data": {
      "text/html": [
       "<div>\n",
       "<style scoped>\n",
       "    .dataframe tbody tr th:only-of-type {\n",
       "        vertical-align: middle;\n",
       "    }\n",
       "\n",
       "    .dataframe tbody tr th {\n",
       "        vertical-align: top;\n",
       "    }\n",
       "\n",
       "    .dataframe thead th {\n",
       "        text-align: right;\n",
       "    }\n",
       "</style>\n",
       "<table border=\"1\" class=\"dataframe\">\n",
       "  <thead>\n",
       "    <tr style=\"text-align: right;\">\n",
       "      <th></th>\n",
       "      <th>col1</th>\n",
       "      <th>col2</th>\n",
       "      <th>col3</th>\n",
       "      <th>col4</th>\n",
       "      <th>col5</th>\n",
       "      <th>target</th>\n",
       "    </tr>\n",
       "  </thead>\n",
       "  <tbody>\n",
       "    <tr>\n",
       "      <th>95</th>\n",
       "      <td>0.405770</td>\n",
       "      <td>-0.015683</td>\n",
       "      <td>-2.148660</td>\n",
       "      <td>-0.003306</td>\n",
       "      <td>2.546643</td>\n",
       "      <td>1</td>\n",
       "    </tr>\n",
       "    <tr>\n",
       "      <th>98</th>\n",
       "      <td>-1.120538</td>\n",
       "      <td>-1.213889</td>\n",
       "      <td>-0.497460</td>\n",
       "      <td>-0.316330</td>\n",
       "      <td>0.890823</td>\n",
       "      <td>1</td>\n",
       "    </tr>\n",
       "    <tr>\n",
       "      <th>2</th>\n",
       "      <td>1.283084</td>\n",
       "      <td>1.464117</td>\n",
       "      <td>-0.280333</td>\n",
       "      <td>-0.112043</td>\n",
       "      <td>3.379386</td>\n",
       "      <td>0</td>\n",
       "    </tr>\n",
       "    <tr>\n",
       "      <th>60</th>\n",
       "      <td>0.755668</td>\n",
       "      <td>-1.921730</td>\n",
       "      <td>0.336488</td>\n",
       "      <td>-1.636566</td>\n",
       "      <td>1.525711</td>\n",
       "      <td>1</td>\n",
       "    </tr>\n",
       "    <tr>\n",
       "      <th>81</th>\n",
       "      <td>-0.842783</td>\n",
       "      <td>-1.479967</td>\n",
       "      <td>-3.091065</td>\n",
       "      <td>1.988626</td>\n",
       "      <td>1.955821</td>\n",
       "      <td>1</td>\n",
       "    </tr>\n",
       "    <tr>\n",
       "      <th>45</th>\n",
       "      <td>0.417787</td>\n",
       "      <td>-0.283218</td>\n",
       "      <td>-2.391301</td>\n",
       "      <td>0.156054</td>\n",
       "      <td>2.245030</td>\n",
       "      <td>1</td>\n",
       "    </tr>\n",
       "    <tr>\n",
       "      <th>24</th>\n",
       "      <td>-0.044089</td>\n",
       "      <td>-1.821573</td>\n",
       "      <td>-1.033965</td>\n",
       "      <td>-0.189279</td>\n",
       "      <td>1.881484</td>\n",
       "      <td>1</td>\n",
       "    </tr>\n",
       "    <tr>\n",
       "      <th>95</th>\n",
       "      <td>0.405770</td>\n",
       "      <td>-0.015683</td>\n",
       "      <td>-2.148660</td>\n",
       "      <td>-0.003306</td>\n",
       "      <td>2.546643</td>\n",
       "      <td>1</td>\n",
       "    </tr>\n",
       "    <tr>\n",
       "      <th>29</th>\n",
       "      <td>0.206766</td>\n",
       "      <td>1.946771</td>\n",
       "      <td>0.321692</td>\n",
       "      <td>1.446055</td>\n",
       "      <td>1.082300</td>\n",
       "      <td>0</td>\n",
       "    </tr>\n",
       "    <tr>\n",
       "      <th>51</th>\n",
       "      <td>-0.987448</td>\n",
       "      <td>0.432733</td>\n",
       "      <td>-0.948079</td>\n",
       "      <td>1.334609</td>\n",
       "      <td>0.462414</td>\n",
       "      <td>1</td>\n",
       "    </tr>\n",
       "  </tbody>\n",
       "</table>\n",
       "</div>"
      ],
      "text/plain": [
       "        col1      col2      col3      col4      col5  target\n",
       "95  0.405770 -0.015683 -2.148660 -0.003306  2.546643       1\n",
       "98 -1.120538 -1.213889 -0.497460 -0.316330  0.890823       1\n",
       "2   1.283084  1.464117 -0.280333 -0.112043  3.379386       0\n",
       "60  0.755668 -1.921730  0.336488 -1.636566  1.525711       1\n",
       "81 -0.842783 -1.479967 -3.091065  1.988626  1.955821       1\n",
       "45  0.417787 -0.283218 -2.391301  0.156054  2.245030       1\n",
       "24 -0.044089 -1.821573 -1.033965 -0.189279  1.881484       1\n",
       "95  0.405770 -0.015683 -2.148660 -0.003306  2.546643       1\n",
       "29  0.206766  1.946771  0.321692  1.446055  1.082300       0\n",
       "51 -0.987448  0.432733 -0.948079  1.334609  0.462414       1"
      ]
     },
     "execution_count": 32,
     "metadata": {},
     "output_type": "execute_result"
    }
   ],
   "source": [
    "df1"
   ]
  },
  {
   "cell_type": "code",
   "execution_count": 33,
   "id": "4375ca1b",
   "metadata": {},
   "outputs": [],
   "source": [
    "df2=sample_features(df,0.1)"
   ]
  },
  {
   "cell_type": "code",
   "execution_count": 34,
   "id": "7c517f40",
   "metadata": {},
   "outputs": [
    {
     "data": {
      "text/html": [
       "<div>\n",
       "<style scoped>\n",
       "    .dataframe tbody tr th:only-of-type {\n",
       "        vertical-align: middle;\n",
       "    }\n",
       "\n",
       "    .dataframe tbody tr th {\n",
       "        vertical-align: top;\n",
       "    }\n",
       "\n",
       "    .dataframe thead th {\n",
       "        text-align: right;\n",
       "    }\n",
       "</style>\n",
       "<table border=\"1\" class=\"dataframe\">\n",
       "  <thead>\n",
       "    <tr style=\"text-align: right;\">\n",
       "      <th></th>\n",
       "    </tr>\n",
       "  </thead>\n",
       "  <tbody>\n",
       "    <tr>\n",
       "      <th>0</th>\n",
       "    </tr>\n",
       "    <tr>\n",
       "      <th>1</th>\n",
       "    </tr>\n",
       "    <tr>\n",
       "      <th>2</th>\n",
       "    </tr>\n",
       "    <tr>\n",
       "      <th>3</th>\n",
       "    </tr>\n",
       "    <tr>\n",
       "      <th>4</th>\n",
       "    </tr>\n",
       "    <tr>\n",
       "      <th>...</th>\n",
       "    </tr>\n",
       "    <tr>\n",
       "      <th>95</th>\n",
       "    </tr>\n",
       "    <tr>\n",
       "      <th>96</th>\n",
       "    </tr>\n",
       "    <tr>\n",
       "      <th>97</th>\n",
       "    </tr>\n",
       "    <tr>\n",
       "      <th>98</th>\n",
       "    </tr>\n",
       "    <tr>\n",
       "      <th>99</th>\n",
       "    </tr>\n",
       "  </tbody>\n",
       "</table>\n",
       "<p>100 rows × 0 columns</p>\n",
       "</div>"
      ],
      "text/plain": [
       "Empty DataFrame\n",
       "Columns: []\n",
       "Index: [0, 1, 2, 3, 4, 5, 6, 7, 8, 9, 10, 11, 12, 13, 14, 15, 16, 17, 18, 19, 20, 21, 22, 23, 24, 25, 26, 27, 28, 29, 30, 31, 32, 33, 34, 35, 36, 37, 38, 39, 40, 41, 42, 43, 44, 45, 46, 47, 48, 49, 50, 51, 52, 53, 54, 55, 56, 57, 58, 59, 60, 61, 62, 63, 64, 65, 66, 67, 68, 69, 70, 71, 72, 73, 74, 75, 76, 77, 78, 79, 80, 81, 82, 83, 84, 85, 86, 87, 88, 89, 90, 91, 92, 93, 94, 95, 96, 97, 98, 99]\n",
       "\n",
       "[100 rows x 0 columns]"
      ]
     },
     "execution_count": 34,
     "metadata": {},
     "output_type": "execute_result"
    }
   ],
   "source": [
    "df2"
   ]
  },
  {
   "cell_type": "code",
   "execution_count": null,
   "id": "4e2d216d",
   "metadata": {},
   "outputs": [],
   "source": []
  },
  {
   "cell_type": "code",
   "execution_count": null,
   "id": "2a1e1394",
   "metadata": {},
   "outputs": [],
   "source": []
  }
 ],
 "metadata": {
  "kernelspec": {
   "display_name": "Python 3 (ipykernel)",
   "language": "python",
   "name": "python3"
  },
  "language_info": {
   "codemirror_mode": {
    "name": "ipython",
    "version": 3
   },
   "file_extension": ".py",
   "mimetype": "text/x-python",
   "name": "python",
   "nbconvert_exporter": "python",
   "pygments_lexer": "ipython3",
   "version": "3.11.5"
  }
 },
 "nbformat": 4,
 "nbformat_minor": 5
}
