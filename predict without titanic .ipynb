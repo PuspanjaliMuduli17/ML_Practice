{
 "cells": [
  {
   "cell_type": "code",
   "execution_count": 1,
   "id": "8b323db7-0864-40a2-bf6e-c00480fb77d4",
   "metadata": {},
   "outputs": [],
   "source": [
    "import numpy as np\n",
    "import warnings \n",
    "import warnings \n",
    "warnings.filterwarnings('ignore')"
   ]
  },
  {
   "cell_type": "code",
   "execution_count": 2,
   "id": "39d52acc-4631-4527-ac37-ea367c5c37a8",
   "metadata": {
    "scrolled": true
   },
   "outputs": [],
   "source": [
    "import pickle\n",
    "\n",
    "# Load objects from pickle files\n",
    "with open('models/ohe_sex.pkl', 'rb') as file:\n",
    "    ohe_sex = pickle.load(file)\n",
    "\n",
    "with open('models/ohe_embarked.pkl', 'rb') as file:\n",
    "    ohe_embarked = pickle.load(file)\n",
    "\n",
    "with open('models/clf.pkl', 'rb') as file:\n",
    "    clf = pickle.load(file)  "
   ]
  },
  {
   "cell_type": "code",
   "execution_count": 3,
   "id": "b1ca7c25-9096-4be1-a67d-cd427259b951",
   "metadata": {},
   "outputs": [],
   "source": [
    "#Assume user input\n",
    "# Pclass/gender/age/SibSp/Parch/Fare/Embarked\n",
    "test_input = np.array([2, 'male', 31.0, 0, 0, 10.5, 'S'],dtype=object).reshape(1,7)"
   ]
  },
  {
   "cell_type": "code",
   "execution_count": 4,
   "id": "32f359a1-29ed-4424-ba60-a77c01925616",
   "metadata": {},
   "outputs": [
    {
     "data": {
      "text/plain": [
       "array([[2, 'male', 31.0, 0, 0, 10.5, 'S']], dtype=object)"
      ]
     },
     "execution_count": 4,
     "metadata": {},
     "output_type": "execute_result"
    }
   ],
   "source": [
    "test_input"
   ]
  },
  {
   "cell_type": "code",
   "execution_count": 5,
   "id": "13fa88a6-bec0-4a81-bb19-b38f857f23c5",
   "metadata": {},
   "outputs": [],
   "source": [
    "test_input_sex=ohe_sex.transform(test_input[:,1].reshape(1,1))"
   ]
  },
  {
   "cell_type": "code",
   "execution_count": 6,
   "id": "fdb476fa-edb8-419b-9aaf-6425985a8f37",
   "metadata": {},
   "outputs": [
    {
     "data": {
      "text/plain": [
       "array([[0., 1.]])"
      ]
     },
     "execution_count": 6,
     "metadata": {},
     "output_type": "execute_result"
    }
   ],
   "source": [
    "test_input_sex"
   ]
  },
  {
   "cell_type": "code",
   "execution_count": 7,
   "id": "cacc4e9e-94eb-4ef0-a9e8-5b64cdfe2b23",
   "metadata": {},
   "outputs": [],
   "source": [
    "test_input_embarked=ohe_embarked.transform(test_input[:,-1].reshape(1,1))"
   ]
  },
  {
   "cell_type": "code",
   "execution_count": 8,
   "id": "a14fad66-3962-4d92-933b-eeca9dc8e560",
   "metadata": {},
   "outputs": [
    {
     "data": {
      "text/plain": [
       "array([[0., 0., 1.]])"
      ]
     },
     "execution_count": 8,
     "metadata": {},
     "output_type": "execute_result"
    }
   ],
   "source": [
    "test_input_embarked"
   ]
  },
  {
   "cell_type": "code",
   "execution_count": 9,
   "id": "a8ac5199-4b64-4391-bd8f-2ad210e4469c",
   "metadata": {},
   "outputs": [],
   "source": [
    "test_input_age=test_input[:,2].reshape(1,1)"
   ]
  },
  {
   "cell_type": "code",
   "execution_count": 10,
   "id": "26a00e3f-c6f8-4567-9046-b53dbcfb944c",
   "metadata": {},
   "outputs": [
    {
     "data": {
      "text/plain": [
       "array([[31.0]], dtype=object)"
      ]
     },
     "execution_count": 10,
     "metadata": {},
     "output_type": "execute_result"
    }
   ],
   "source": [
    "test_input_age"
   ]
  },
  {
   "cell_type": "code",
   "execution_count": 11,
   "id": "00dd4506-0c40-4db7-baac-40dd206c87b5",
   "metadata": {},
   "outputs": [],
   "source": [
    "test_input_transformed=np.concatenate((test_input[:,[0,3,4,5]],test_input_age,test_input_sex,test_input_embarked),axis=1)"
   ]
  },
  {
   "cell_type": "code",
   "execution_count": 12,
   "id": "b349a58f-dacf-46b1-a419-075def79462e",
   "metadata": {},
   "outputs": [
    {
     "data": {
      "text/plain": [
       "(1, 10)"
      ]
     },
     "execution_count": 12,
     "metadata": {},
     "output_type": "execute_result"
    }
   ],
   "source": [
    "test_input_transformed.shape"
   ]
  },
  {
   "cell_type": "code",
   "execution_count": 13,
   "id": "28d922eb-0cce-4bf3-afb9-4fbd8099eb47",
   "metadata": {},
   "outputs": [
    {
     "data": {
      "text/plain": [
       "array([0])"
      ]
     },
     "execution_count": 13,
     "metadata": {},
     "output_type": "execute_result"
    }
   ],
   "source": [
    "clf.predict(test_input_transformed)"
   ]
  },
  {
   "cell_type": "code",
   "execution_count": null,
   "id": "3d9bc3e0-1c07-4c35-89a5-7df0f1233fe7",
   "metadata": {},
   "outputs": [],
   "source": []
  }
 ],
 "metadata": {
  "kernelspec": {
   "display_name": "Python 3 (ipykernel)",
   "language": "python",
   "name": "python3"
  },
  "language_info": {
   "codemirror_mode": {
    "name": "ipython",
    "version": 3
   },
   "file_extension": ".py",
   "mimetype": "text/x-python",
   "name": "python",
   "nbconvert_exporter": "python",
   "pygments_lexer": "ipython3",
   "version": "3.11.5"
  }
 },
 "nbformat": 4,
 "nbformat_minor": 5
}
